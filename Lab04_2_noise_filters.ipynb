{
 "cells": [
  {
   "cell_type": "code",
   "execution_count": 7,
   "id": "cbb92720",
   "metadata": {},
   "outputs": [
    {
     "data": {
      "text/plain": [
       "True"
      ]
     },
     "execution_count": 7,
     "metadata": {},
     "output_type": "execute_result"
    }
   ],
   "source": [
    "import cv2 as cv\n",
    "import numpy as np\n",
    "import random\n",
    "\n",
    "img = cv.imread('safari.jpg')\n",
    "height, width = img.shape[0:2]\n",
    "\n",
    "probability = input(\"Enter noise value between 0 and 1: \")\n",
    "num_of_noise_pixels = int(height * width * float(probability))\n",
    "\n",
    "for i in range(num_of_noise_pixels):\n",
    "    y = random.randint(0, height-1)\n",
    "    x = random.randint(0, width-1)\n",
    "    img[y][x] = 0#random.randint(96, 192)\n",
    "    \n",
    "cv.imwrite(\"safari_with_salt_and_pepper_noise.jpg\", img)\n",
    "\n",
    "kernel_3x3 = np.ones([3,3]) / 9\n",
    "img_filtered = cv.filter2D(img, -1, kernel_3x3)\n",
    "cv.imwrite(\"safari_filtered_by_3x3_kernel.jpg\", img_filtered)\n",
    "\n",
    "bilinear_kernel_3x3 = np.array([[1,2,1],[2,4,2],[1,2,1]]) / 16\n",
    "img_bilinear_filtered = cv.filter2D(img, -1, bilinear_kernel_3x3)\n",
    "cv.imwrite(\"safari_filtered_by_3x3_bilinear_kernel.jpg\", img_bilinear_filtered)\n",
    "\n",
    "img_median_filtered = cv.medianBlur(img, 3)\n",
    "cv.imwrite(\"safari_filtered_by_3x3_median_kernel.jpg\", img_median_filtered)\n",
    "\n",
    "gaussian_kernel = cv.getGaussianKernel(3, 1.5)\n",
    "img_gaussian_filtered = cv.sepFilter2D(img, -1, gaussian_kernel, gaussian_kernel)\n",
    "cv.imwrite(\"safari_filtered_by_3x3_gaussian_kernel.jpg\", img_gaussian_filtered)\n",
    "\n",
    "\n",
    "# More Gaussian test\n",
    "# test = cv.imread('test.jpg')\n",
    "# ys, xs = test.shape[0:2]\n",
    "# num = int(x * y * 0.2)\n",
    "# for i in range(num):\n",
    "#     y = random.randint(0, ys-1)\n",
    "#     x = random.randint(0, xs-1)\n",
    "#     test[y][x] = 0\n",
    "\n",
    "# cv.imshow('Origin with noise', test)\n",
    "# cv.imwrite('test_with_noise.jpg', test)\n",
    "# gaussian_kernel1 = cv.getGaussianKernel(9, 1.5)\n",
    "# img_gaussian_filtered1 = cv.sepFilter2D(test, -1, gaussian_kernel1, gaussian_kernel1)\n",
    "# cv.imshow('G1', img_gaussian_filtered1)\n",
    "# cv.imwrite(\"safari_filtered_by_3x3_gaussian_kernel1.jpg\", img_gaussian_filtered1)\n",
    "\n",
    "# gaussian_kernel2 = cv.getGaussianKernel(3, 8.0)\n",
    "# img_gaussian_filtered2 = cv.sepFilter2D(test, -1, gaussian_kernel2, gaussian_kernel2)\n",
    "# cv.imshow('G2', img_gaussian_filtered2)\n",
    "# cv.imwrite(\"safari_filtered_by_3x3_gaussian_kernel2.jpg\", img_gaussian_filtered2)\n",
    "\n"
   ]
  },
  {
   "cell_type": "code",
   "execution_count": null,
   "id": "2e96db8e",
   "metadata": {},
   "outputs": [],
   "source": []
  },
  {
   "cell_type": "code",
   "execution_count": null,
   "id": "79c38daf",
   "metadata": {},
   "outputs": [],
   "source": []
  }
 ],
 "metadata": {
  "kernelspec": {
   "display_name": "Python 3 (ipykernel)",
   "language": "python",
   "name": "python3"
  },
  "language_info": {
   "codemirror_mode": {
    "name": "ipython",
    "version": 3
   },
   "file_extension": ".py",
   "mimetype": "text/x-python",
   "name": "python",
   "nbconvert_exporter": "python",
   "pygments_lexer": "ipython3",
   "version": "3.9.15"
  }
 },
 "nbformat": 4,
 "nbformat_minor": 5
}
