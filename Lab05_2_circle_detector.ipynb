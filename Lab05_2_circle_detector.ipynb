{
 "cells": [
  {
   "cell_type": "code",
   "execution_count": 53,
   "id": "be1efa9c",
   "metadata": {},
   "outputs": [
    {
     "name": "stdout",
     "output_type": "stream",
     "text": [
      "Min Dist: 75.0, Max Rad: 50\n",
      "Min Dist: 150.0, Max Rad: 100\n",
      "Min Dist: 225.0, Max Rad: 150\n",
      "Min Dist: 300.0, Max Rad: 200\n",
      "Min Dist: 375.0, Max Rad: 250\n",
      "Min Dist: 450.0, Max Rad: 300\n",
      "Min Dist: 525.0, Max Rad: 350\n",
      "Min Dist: 600.0, Max Rad: 400\n"
     ]
    }
   ],
   "source": [
    "import cv2 as cv \n",
    "import numpy as np\n",
    "import copy \n",
    "\n",
    "def create_hough_line_img_by_thres(img, canny_map, thres):\n",
    "    img_copy = copy.copy(img)\n",
    "    cv.imwrite(f'test_{thres}.jpg', img_copy)\n",
    "    lines = cv.HoughLinesP(canny_map, 1, np.pi/180, thres, minLineLength=50, maxLineGap=10)\n",
    "    for line in lines:\n",
    "        x1, y1, x2, y2 = line[0]\n",
    "        cv.line(img_copy, (x1, y1), (x2, y2), (0, 0, 255), 3)\n",
    "    cv.imwrite(f'hough_transform_{i}.jpg', img_copy)\n",
    "    \n",
    "img = cv.imread('Building.jpeg')\n",
    "gray_img = cv.cvtColor(img, cv.COLOR_BGR2GRAY)\n",
    "cv.imshow('Grayscale Image', gray_img)\n",
    "\n",
    "canny_map = cv.Canny(gray_img, 80, 240)\n",
    "cv.imwrite('canny_img.jpg', canny_map)\n",
    "\n",
    "for i in range(50, 300, 100):\n",
    "    create_hough_line_img_by_thres(img, canny_map, i)\n",
    "    \n",
    "coin_img = cv.imread('Coins.jpeg')\n",
    "gray_coins = cv.cvtColor(coin_img, cv.COLOR_BGR2GRAY)\n",
    "coins_blur = cv.medianBlur(gray_coins, 5)\n",
    "cv.imwrite('gray_blur_coins.jpg', coins_blur)\n",
    "\n",
    "for i in range(50, 401, 50):\n",
    "    coin_img_copy = copy.deepcopy(coin_img)\n",
    "    minDist = i*1.5\n",
    "    maxRad = i \n",
    "    print(f'Min Dist: {minDist}, Max Rad: {maxRad}')\n",
    "    coins = cv.HoughCircles(coins_blur, cv.HOUGH_GRADIENT, 1, minDist, param1=50, param2=30, minRadius=10, maxRadius=maxRad)\n",
    "    if coins is not None:\n",
    "        coins = np.uint16(np.around(coins))\n",
    "        for i in coins[0, :]:\n",
    "            # Draw outer circle\n",
    "            cv.circle(coin_img_copy, (i[0], i[1]), i[2], (0, 255, 0), 2)\n",
    "            # Draw inner circle\n",
    "            cv.circle(coin_img_copy, (i[0], i[1]), 2, (0, 0, 255), 3)\n",
    "    cv.imwrite(f'hough_circles_{minDist}_{maxRad}.jpg', coin_img_copy)\n"
   ]
  },
  {
   "cell_type": "code",
   "execution_count": null,
   "id": "2a42d26d",
   "metadata": {},
   "outputs": [],
   "source": []
  },
  {
   "cell_type": "code",
   "execution_count": null,
   "id": "4864d03e",
   "metadata": {},
   "outputs": [],
   "source": []
  },
  {
   "cell_type": "code",
   "execution_count": null,
   "id": "34fb5728",
   "metadata": {},
   "outputs": [],
   "source": []
  }
 ],
 "metadata": {
  "kernelspec": {
   "display_name": "Python 3 (ipykernel)",
   "language": "python",
   "name": "python3"
  },
  "language_info": {
   "codemirror_mode": {
    "name": "ipython",
    "version": 3
   },
   "file_extension": ".py",
   "mimetype": "text/x-python",
   "name": "python",
   "nbconvert_exporter": "python",
   "pygments_lexer": "ipython3",
   "version": "3.9.15"
  }
 },
 "nbformat": 4,
 "nbformat_minor": 5
}
