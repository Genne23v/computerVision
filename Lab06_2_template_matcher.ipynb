{
 "cells": [
  {
   "cell_type": "code",
   "execution_count": 87,
   "id": "9b9eda92",
   "metadata": {},
   "outputs": [
    {
     "data": {
      "text/plain": [
       "True"
      ]
     },
     "execution_count": 87,
     "metadata": {},
     "output_type": "execute_result"
    }
   ],
   "source": [
    "import cv2 as cv\n",
    "import numpy as np\n",
    "\n",
    "query = cv.imread('Trillium_s.jpg', 0)\n",
    "template = cv.imread('Trillium_t.jpg', 0)\n",
    "\n",
    "width, height = template.shape[::-1]\n",
    "\n",
    "# Apply template matching using TM_SQDIFF\n",
    "res = cv.matchTemplate(query, template, cv.TM_SQDIFF)\n",
    "min_val, max_val, min_loc, max_loc = cv.minMaxLoc(res)\n",
    "\n",
    "# If method is TM_SQDIFF or TM_SQDIFF_NORMED, take minimum\n",
    "top_left = min_loc\n",
    "bottom_right = (top_left[0] + width, top_left[1] + height)\n",
    "cv.rectangle(query, top_left, bottom_right, 255, 2)\n",
    "cv.imwrite('template_match_tm_sqdiff.jpg', query)\n",
    "\n",
    "# Using TM_CCORR\n",
    "query2 = cv.imread('Trillium_s.jpg', 0)\n",
    "res2 = cv.matchTemplate(query2, template, cv.TM_CCORR)\n",
    "min_val, max_val, min_loc, max_loc = cv.minMaxLoc(res2)\n",
    "# Get the top-left corner of the best match\n",
    "top_left = max_loc\n",
    "bottom_right = (top_left[0] + width, top_left[1] + height)\n",
    "cv.rectangle(query2, top_left, bottom_right, 255, 2)\n",
    "cv.imwrite('template_match_tm_ccorr.jpg', query2)\n",
    "\n",
    "# Resize and rotate query image matching\n",
    "query3 = cv.imread('Trillium_s.jpg', 0)\n",
    "q_height, q_width = query3.shape[0:2]\n",
    "resized_query = cv.resize(query3, (q_width*2, q_height*2), interpolation =cv.INTER_AREA)\n",
    "resized_q_height, resized_q_width = resized_query.shape[0:2]\n",
    "rotationMatrix = cv.getRotationMatrix2D((resized_q_width/2, resized_q_height/2), float(30), 1)\n",
    "rotated_query = cv.warpAffine(resized_query, rotationMatrix, (resized_q_width, resized_q_height))\n",
    "\n",
    "res3 = cv.matchTemplate(rotated_query, template, cv.TM_CCORR)\n",
    "min_val, max_val, min_loc, max_loc = cv.minMaxLoc(res3)\n",
    "top_left = max_loc\n",
    "\n",
    "# 1. Draw not rotated rect, but out of object\n",
    "#bottom_right = (top_left[0] + width*2, top_left[1] + height*2)\n",
    "#cv.rectangle(rotated_query, top_left, bottom_right, 255, 2)\n",
    "\n",
    "# 2. Draw rotated rect from top_left position\n",
    "x = top_left[0]\n",
    "y = top_left[1]\n",
    "center_x = x + width\n",
    "center_y = y + height\n",
    "M = cv.getRotationMatrix2D((center_x, center_y), 30, 1)\n",
    "rect = np.array([[x, y], [x+width*2, y], [x+width*2, y+height*2], [x, y+height*2]], dtype=np.float32)\n",
    "rotated_rect = cv.transform(np.array([rect]), M)[0]\n",
    "cv.polylines(rotated_query, [np.int32(rotated_rect)], True, 255, 2)\n",
    "\n",
    "cv.imwrite('rotated_template_match_tm_ccorr.jpg', rotated_query)\n"
   ]
  },
  {
   "cell_type": "code",
   "execution_count": null,
   "id": "2bc39ef1",
   "metadata": {},
   "outputs": [],
   "source": []
  },
  {
   "cell_type": "code",
   "execution_count": null,
   "id": "de805ef9",
   "metadata": {},
   "outputs": [],
   "source": []
  }
 ],
 "metadata": {
  "kernelspec": {
   "display_name": "Python 3 (ipykernel)",
   "language": "python",
   "name": "python3"
  },
  "language_info": {
   "codemirror_mode": {
    "name": "ipython",
    "version": 3
   },
   "file_extension": ".py",
   "mimetype": "text/x-python",
   "name": "python",
   "nbconvert_exporter": "python",
   "pygments_lexer": "ipython3",
   "version": "3.9.15"
  }
 },
 "nbformat": 4,
 "nbformat_minor": 5
}
