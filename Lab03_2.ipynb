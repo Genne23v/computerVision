{
 "cells": [
  {
   "cell_type": "code",
   "execution_count": 38,
   "id": "4bbb8f55",
   "metadata": {},
   "outputs": [
    {
     "name": "stdout",
     "output_type": "stream",
     "text": [
      "Choose a drawing color[r, w, g, y]: w\n"
     ]
    },
    {
     "ename": "KeyboardInterrupt",
     "evalue": "",
     "output_type": "error",
     "traceback": [
      "\u001b[0;31m---------------------------------------------------------------------------\u001b[0m",
      "\u001b[0;31mKeyboardInterrupt\u001b[0m                         Traceback (most recent call last)",
      "Cell \u001b[0;32mIn[38], line 70\u001b[0m\n\u001b[1;32m     68\u001b[0m cv\u001b[38;5;241m.\u001b[39mimshow(\u001b[38;5;124m'\u001b[39m\u001b[38;5;124mBlackboard\u001b[39m\u001b[38;5;124m'\u001b[39m,img)\n\u001b[1;32m     69\u001b[0m cv\u001b[38;5;241m.\u001b[39mimshow(\u001b[38;5;124m'\u001b[39m\u001b[38;5;124mBlackboard2\u001b[39m\u001b[38;5;124m'\u001b[39m,img2)\n\u001b[0;32m---> 70\u001b[0m k \u001b[38;5;241m=\u001b[39m \u001b[43mcv\u001b[49m\u001b[38;5;241;43m.\u001b[39;49m\u001b[43mwaitKey\u001b[49m\u001b[43m(\u001b[49m\u001b[38;5;241;43m1\u001b[39;49m\u001b[43m)\u001b[49m \u001b[38;5;241m&\u001b[39m \u001b[38;5;241m0xFF\u001b[39m\n\u001b[1;32m     72\u001b[0m \u001b[38;5;28;01mif\u001b[39;00m k \u001b[38;5;241m==\u001b[39m \u001b[38;5;28mord\u001b[39m(\u001b[38;5;124m'\u001b[39m\u001b[38;5;124mm\u001b[39m\u001b[38;5;124m'\u001b[39m):\n\u001b[1;32m     73\u001b[0m     mode \u001b[38;5;241m=\u001b[39m \u001b[38;5;129;01mnot\u001b[39;00m mode\n",
      "\u001b[0;31mKeyboardInterrupt\u001b[0m: "
     ]
    }
   ],
   "source": [
    "import cv2 as cv\n",
    "import numpy as np\n",
    "# events = [i for i in dir(cv) if 'EVENT' in i]\n",
    "# print( events )\n",
    "\n",
    "drawing = False # true if mouse is pressed\n",
    "mode = True # if True, draw rectangle. Press 'm' to toggle to curve\n",
    "ix,iy = -1,-1\n",
    "img_num = 1\n",
    "\n",
    "def draw_circle(event,x,y,flags,param):\n",
    "    global ix,iy,sx,sy,drawing,mode\n",
    "    if event == cv.EVENT_LBUTTONDOWN:\n",
    "        drawing = True\n",
    "        ix,iy = x,y\n",
    "    elif event == cv.EVENT_MOUSEMOVE:\n",
    "        if drawing == True:\n",
    "            if mode == True:\n",
    "                cv.rectangle(img,(ix,iy),(x,y), param, 4) \n",
    "            else:\n",
    "                cv.circle(img,(x,y),5, param, 4)\n",
    "    elif event == cv.EVENT_LBUTTONUP:\n",
    "        drawing = False\n",
    "        if mode == True:\n",
    "            cv.rectangle(img,(ix,iy),(x,y), param, 4) # border gets thicker by changing thickness value\n",
    "        else:\n",
    "            cv.circle(img,(x,y),5, param, 4)\n",
    "            \n",
    "def draw_lines(event, x, y, flags, param):\n",
    "    global ix,iy,sx,sy\n",
    "    if event == cv.EVENT_LBUTTONDOWN:\n",
    "        cv.circle(img2, (x, y), 3, param, -1)\n",
    "\n",
    "        if ix != -1: # if ix and iy are not first points, then draw a line\n",
    "            cv.line(img2, (ix, iy), (x, y), param, 2, cv.LINE_AA)\n",
    "        else: # if ix and iy are first points, store as starting points\n",
    "            sx, sy = x, y\n",
    "            \n",
    "        ix,iy = x, y\n",
    "        \n",
    "    elif event == cv.EVENT_LBUTTONDBLCLK:\n",
    "        ix, iy = -1, -1 # reset ix and iy\n",
    "        if flags == 33: # if alt key is pressed, create line between start and end points to create polygon\n",
    "            cv.line(img2, (x, y), (sx, sy), param, 2, cv.LINE_AA)\n",
    "\n",
    "def choose_color(selection):\n",
    "    if selection == \"r\":\n",
    "        return (0, 0, 255)\n",
    "    elif selection == \"w\":\n",
    "        return (255, 255, 255)\n",
    "    elif selection == \"g\":\n",
    "        return (0, 255, 0)\n",
    "    elif selection == \"y\":\n",
    "        return (0, 255, 255)\n",
    "        \n",
    "\n",
    "selection = input(\"Choose a drawing color[r, w, g, y]: \")\n",
    "color = choose_color(selection)\n",
    "\n",
    "img = np.zeros((1024,1024,3), np.uint8)\n",
    "img2 = np.zeros((1024,1024,3), np.uint8)\n",
    "cv.namedWindow('Blackboard')\n",
    "cv.setMouseCallback('Blackboard', draw_circle, color)\n",
    "cv.namedWindow('Blackboard2')\n",
    "cv.setMouseCallback('Blackboard2', draw_lines, color)\n",
    "\n",
    "while(1):\n",
    "    cv.imshow('Blackboard',img)\n",
    "    cv.imshow('Blackboard2',img2)\n",
    "    k = cv.waitKey(1) & 0xFF\n",
    "    \n",
    "    if k == ord('m'):\n",
    "        mode = not mode\n",
    "    elif k == ord('x'):\n",
    "        cv.imwrite(f\"Screenshot_{img_num}.png\", img)\n",
    "        img_num = img_num+1 \n",
    "    elif k == 27:\n",
    "        break\n",
    "cv.destroyAllWindows()\n",
    "\n"
   ]
  },
  {
   "cell_type": "markdown",
   "id": "e2a55653",
   "metadata": {},
   "source": []
  },
  {
   "cell_type": "code",
   "execution_count": null,
   "id": "a523b2d3",
   "metadata": {},
   "outputs": [],
   "source": []
  },
  {
   "cell_type": "code",
   "execution_count": null,
   "id": "6f3804ad",
   "metadata": {},
   "outputs": [],
   "source": []
  }
 ],
 "metadata": {
  "kernelspec": {
   "display_name": "Python 3 (ipykernel)",
   "language": "python",
   "name": "python3"
  },
  "language_info": {
   "codemirror_mode": {
    "name": "ipython",
    "version": 3
   },
   "file_extension": ".py",
   "mimetype": "text/x-python",
   "name": "python",
   "nbconvert_exporter": "python",
   "pygments_lexer": "ipython3",
   "version": "3.9.15"
  }
 },
 "nbformat": 4,
 "nbformat_minor": 5
}
