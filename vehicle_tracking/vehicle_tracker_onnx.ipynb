{
 "cells": [
  {
   "cell_type": "code",
   "execution_count": 1,
   "id": "af0d4306",
   "metadata": {},
   "outputs": [
    {
     "name": "stdout",
     "output_type": "stream",
     "text": [
      "33 vehicles detected\n",
      "33 vehicles detected\n",
      "33 vehicles detected\n",
      "33 vehicles detected\n",
      "33 vehicles detected\n",
      "33 vehicles detected\n",
      "33 vehicles detected\n",
      "33 vehicles detected\n",
      "33 vehicles detected\n",
      "33 vehicles detected\n",
      "33 vehicles detected\n",
      "33 vehicles detected\n",
      "33 vehicles detected\n",
      "33 vehicles detected\n",
      "33 vehicles detected\n",
      "33 vehicles detected\n",
      "33 vehicles detected\n",
      "33 vehicles detected\n",
      "33 vehicles detected\n",
      "33 vehicles detected\n",
      "33 vehicles detected\n",
      "33 vehicles detected\n",
      "33 vehicles detected\n"
     ]
    },
    {
     "ename": "KeyboardInterrupt",
     "evalue": "",
     "output_type": "error",
     "traceback": [
      "\u001b[0;31m---------------------------------------------------------------------------\u001b[0m",
      "\u001b[0;31mKeyboardInterrupt\u001b[0m                         Traceback (most recent call last)",
      "Cell \u001b[0;32mIn[1], line 20\u001b[0m\n\u001b[1;32m     16\u001b[0m blob \u001b[38;5;241m=\u001b[39m cv2\u001b[38;5;241m.\u001b[39mdnn\u001b[38;5;241m.\u001b[39mblobFromImage(frame, swapRB\u001b[38;5;241m=\u001b[39m\u001b[38;5;28;01mTrue\u001b[39;00m, crop\u001b[38;5;241m=\u001b[39m\u001b[38;5;28;01mFalse\u001b[39;00m)\n\u001b[1;32m     18\u001b[0m net\u001b[38;5;241m.\u001b[39msetInput(blob)\n\u001b[0;32m---> 20\u001b[0m output \u001b[38;5;241m=\u001b[39m \u001b[43mnet\u001b[49m\u001b[38;5;241;43m.\u001b[39;49m\u001b[43mforward\u001b[49m\u001b[43m(\u001b[49m\u001b[43m)\u001b[49m\n\u001b[1;32m     22\u001b[0m i\u001b[38;5;241m=\u001b[39m\u001b[38;5;241m0\u001b[39m\n\u001b[1;32m     23\u001b[0m \u001b[38;5;28;01mfor\u001b[39;00m detection \u001b[38;5;129;01min\u001b[39;00m output[\u001b[38;5;241m0\u001b[39m, \u001b[38;5;241m0\u001b[39m, :, :]:\n",
      "\u001b[0;31mKeyboardInterrupt\u001b[0m: "
     ]
    }
   ],
   "source": [
    "import cv2\n",
    "import numpy as np\n",
    "\n",
    "net = cv2.dnn.readNetFromONNX('detect_model.onnx')\n",
    "\n",
    "cap = cv2.VideoCapture('test5.mp4')\n",
    "\n",
    "_, frame = cap.read()\n",
    "height, width, _ = frame.shape\n",
    "\n",
    "while cap.isOpened():\n",
    "    ret, frame = cap.read()\n",
    "    if not ret:\n",
    "        break\n",
    "\n",
    "    blob = cv2.dnn.blobFromImage(frame, swapRB=True, crop=False)\n",
    "\n",
    "    net.setInput(blob)\n",
    "\n",
    "    output = net.forward()\n",
    "    \n",
    "    i=0\n",
    "    for detection in output[0, 0, :, :]:\n",
    "        confidence = detection[2]\n",
    "        i+=1\n",
    "        if confidence > 0.15:\n",
    "            class_id = detection[1]\n",
    "            class_label = 'vehicle'\n",
    "            x_min = int(detection[3] * frame.shape[1])\n",
    "            y_min = int(detection[4] * frame.shape[0])\n",
    "            x_max = int(detection[5] * frame.shape[1])\n",
    "            y_max = int(detection[6] * frame.shape[0])\n",
    "            cv2.rectangle(frame, (x_min, y_min), (x_max, y_max), (0, 255, 0), 2)\n",
    "            cv2.putText(frame, class_label, (x_min, y_min - 10), cv2.FONT_HERSHEY_SIMPLEX, 0.5, (0, 255, 0), 2)\n",
    "    \n",
    "    cv2.imshow('output', frame)\n",
    "    print(f'{i} vehicles detected')\n",
    "        \n",
    "    if cv2.waitKey(1) & 0xFF == ord('q'):\n",
    "        break\n",
    "\n",
    "cap.release()\n",
    "cv2.destroyAllWindows()\n"
   ]
  },
  {
   "cell_type": "code",
   "execution_count": null,
   "id": "c35110ce",
   "metadata": {},
   "outputs": [],
   "source": []
  }
 ],
 "metadata": {
  "kernelspec": {
   "display_name": "Python 3 (ipykernel)",
   "language": "python",
   "name": "python3"
  },
  "language_info": {
   "codemirror_mode": {
    "name": "ipython",
    "version": 3
   },
   "file_extension": ".py",
   "mimetype": "text/x-python",
   "name": "python",
   "nbconvert_exporter": "python",
   "pygments_lexer": "ipython3",
   "version": "3.9.15"
  }
 },
 "nbformat": 4,
 "nbformat_minor": 5
}
