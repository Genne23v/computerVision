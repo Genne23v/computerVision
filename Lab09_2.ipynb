{
 "cells": [
  {
   "cell_type": "code",
   "execution_count": 20,
   "id": "45d1d932",
   "metadata": {},
   "outputs": [],
   "source": [
    "import cv2 as cv\n",
    "import numpy as np\n",
    "import time\n",
    "\n",
    "cap = cv.VideoCapture(0)\n",
    "\n",
    "if (cap.isOpened() == False):\n",
    "    print(\"Error opening video stream or file\")\n",
    "\n",
    "frame_width = int(cap.get(3))\n",
    "frame_height = int(cap.get(4))\n",
    "\n",
    "_, frame1 = cap.read()\n",
    "prev = cv.cvtColor(frame1, cv.COLOR_BGR2GRAY)\n",
    "hsv_mask = np.zeros_like(frame1)\n",
    "hsv_mask[..., 1] = 255\n",
    "\n",
    "\n",
    "while(cap.isOpened()):\n",
    "    _, frame2 = cap.read()\n",
    "    next = cv.cvtColor(frame2, cv.COLOR_BGR2GRAY)\n",
    "\n",
    "    # pyr_scale, levels, winsize, interations, poly_n, poly_sigma, flow\n",
    "    flow = cv.calcOpticalFlowFarneback(prev, next, None, 0.5, 3, 15, 3, 5, 1.2, 0)\n",
    "\n",
    "    # Convert optical flow into Polar coordinates to get magnitude\n",
    "    mag, ang = cv.cartToPolar(flow[..., 0], flow[..., 1])\n",
    "    # Use a threshold, to only count the significant ones\n",
    "    mag_thresholded = (mag > 20)\n",
    "    \n",
    "    display = frame2\n",
    "    for row in range(4, display.shape[0], 8):\n",
    "     for col in range(4, display.shape[1], 8):\n",
    "         flowat = flow[row, col]\n",
    "         cv.line(display,\n",
    "               (col, row),\n",
    "               (col + round(flowat[1]), row + round(flowat[0])),\n",
    "               (0, 255, 0))\n",
    "\n",
    "    cv.imshow('Frame', display)\n",
    "    key = cv.waitKey(40)\n",
    "    \n",
    "    percent = mag_thresholded.sum() / (frame_width * frame_height)\n",
    "    if percent > 0.02:\n",
    "        current_time = time.time()\n",
    "        # Save the current color frame in a file (with a counter or time stamp)\n",
    "        cv.imwrite(f'{current_time}.png', display)\n",
    "        \n",
    "    if key & 0xFF == ord('q'):\n",
    "        break\n",
    "\n",
    "cap.release()\n",
    "cv.destroyAllWindows()\n"
   ]
  },
  {
   "cell_type": "code",
   "execution_count": null,
   "id": "88ef6cd6",
   "metadata": {},
   "outputs": [],
   "source": []
  },
  {
   "cell_type": "code",
   "execution_count": null,
   "id": "bbda23c5",
   "metadata": {},
   "outputs": [],
   "source": []
  }
 ],
 "metadata": {
  "kernelspec": {
   "display_name": "Python 3 (ipykernel)",
   "language": "python",
   "name": "python3"
  },
  "language_info": {
   "codemirror_mode": {
    "name": "ipython",
    "version": 3
   },
   "file_extension": ".py",
   "mimetype": "text/x-python",
   "name": "python",
   "nbconvert_exporter": "python",
   "pygments_lexer": "ipython3",
   "version": "3.9.15"
  }
 },
 "nbformat": 4,
 "nbformat_minor": 5
}
