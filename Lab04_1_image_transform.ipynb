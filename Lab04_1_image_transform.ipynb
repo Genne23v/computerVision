{
 "cells": [
  {
   "cell_type": "code",
   "execution_count": 23,
   "id": "8391bac0",
   "metadata": {},
   "outputs": [
    {
     "name": "stdout",
     "output_type": "stream",
     "text": [
      "Enter a single character to choose action\n",
      "\t[r] rotate\n",
      "\t[s] resize\n",
      "\t[t] transform\n",
      "\t[e] exit\n",
      "t\n",
      "Enter a single character to choose action\n",
      "\t[r] rotate\n",
      "\t[s] resize\n",
      "\t[t] transform\n",
      "\t[e] exit\n",
      "e\n"
     ]
    }
   ],
   "source": [
    "import cv2 as cv\n",
    "import numpy as np\n",
    "\n",
    "img = cv.imread('fire.jpg')\n",
    "cv.imshow('Original Image', img)\n",
    "height, width = img.shape[0:2]\n",
    "\n",
    "while(1):\n",
    "    selection = input(\"Enter a single character to choose action\\n\\t[r] rotate\\n\\t[s] resize\\n\\t[t] transform\\n\\t[e] exit\\n\")\n",
    "            \n",
    "    if selection == 'e':\n",
    "        break\n",
    "    elif selection == 'r':\n",
    "        angle = input(\"Enter an angle to rotate: \")\n",
    "        rotationMatrix = cv.getRotationMatrix2D((width/2, height/2), float(angle), 1) \n",
    "        rotated_img = cv.warpAffine(img, rotationMatrix, (width, height))\n",
    "        cv.imshow(\"Rotated Image\", rotated_img)\n",
    "        cv.imwrite('fire_rotated.jpg', rotated_img)\n",
    "    elif selection == 's':\n",
    "        resized_width = input(\"Enter width to resize: \")\n",
    "        resized_height = input(\"Enter height to resize: \")\n",
    "        dimension = (int(resized_width), int(resized_height)) \n",
    "        resized_img = cv.resize(img, dimension, interpolation = cv.INTER_AREA)\n",
    "        cv.imshow(\"Resized Image\", resized_img)\n",
    "        cv.imwrite('fire_resized.jpg', resized_img)        \n",
    "    elif selection == 't':\n",
    "        homography_matrix = np.float32([[0.4, -0.4, 190], [0.15, 0.4, 100], [0, 0, 1]])\n",
    "        dimension = (width, height)\n",
    "        transformed_img = cv.warpPerspective(img, homography_matrix, dimension)\n",
    "        cv.imshow(\"Transformed Image\", transformed_img)\n",
    "        cv.imwrite('fire_transformed.jpg', transformed_img)\n",
    "\n",
    "cv.destroyAllWindows()"
   ]
  },
  {
   "cell_type": "code",
   "execution_count": null,
   "id": "6e2cbcd9",
   "metadata": {},
   "outputs": [],
   "source": []
  },
  {
   "cell_type": "code",
   "execution_count": null,
   "id": "3c53f7b8",
   "metadata": {},
   "outputs": [],
   "source": []
  }
 ],
 "metadata": {
  "kernelspec": {
   "display_name": "Python 3 (ipykernel)",
   "language": "python",
   "name": "python3"
  },
  "language_info": {
   "codemirror_mode": {
    "name": "ipython",
    "version": 3
   },
   "file_extension": ".py",
   "mimetype": "text/x-python",
   "name": "python",
   "nbconvert_exporter": "python",
   "pygments_lexer": "ipython3",
   "version": "3.9.15"
  }
 },
 "nbformat": 4,
 "nbformat_minor": 5
}
