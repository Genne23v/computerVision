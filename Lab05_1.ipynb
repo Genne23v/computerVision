{
 "cells": [
  {
   "cell_type": "code",
   "execution_count": 16,
   "id": "4c0623f4",
   "metadata": {},
   "outputs": [
    {
     "data": {
      "text/plain": [
       "True"
      ]
     },
     "execution_count": 16,
     "metadata": {},
     "output_type": "execute_result"
    }
   ],
   "source": [
    "import cv2 as cv \n",
    "\n",
    "img = cv.imread('sample.jpg')\n",
    "gray_img = cv.cvtColor(img, cv.COLOR_BGR2GRAY)\n",
    "cv.imwrite('gray_img.jpg', gray_img)\n",
    "cv.imshow('Grayscale Image', gray_img)\n",
    "sobel_map1 = cv.Sobel(gray_img, cv.CV_8U, 1, 0)\n",
    "sobel_map2 = cv.Sobel(gray_img, cv.CV_8U, 0, 1)\n",
    "sobel_map3 = cv.Sobel(gray_img, cv.CV_8U, 1, 1)\n",
    "cv.imwrite('sobel_img1.jpg', sobel_map1)\n",
    "cv.imwrite('sobel_img2.jpg', sobel_map2)\n",
    "cv.imwrite('sobel_img3.jpg', sobel_map3)\n",
    "\n",
    "canny_map1 = cv.Canny(gray_img, 80, 250)\n",
    "canny_map2 = cv.Canny(gray_img, 125, 250)\n",
    "canny_map3 = cv.Canny(gray_img, 170, 250)\n",
    "cv.imwrite('canny_img1.jpg', canny_map1)\n",
    "cv.imwrite('canny_img2.jpg', canny_map2)\n",
    "cv.imwrite('canny_img3.jpg', canny_map3)\n"
   ]
  },
  {
   "cell_type": "code",
   "execution_count": null,
   "id": "d65e2b77",
   "metadata": {},
   "outputs": [],
   "source": []
  },
  {
   "cell_type": "code",
   "execution_count": null,
   "id": "fef14b70",
   "metadata": {},
   "outputs": [],
   "source": []
  }
 ],
 "metadata": {
  "kernelspec": {
   "display_name": "Python 3 (ipykernel)",
   "language": "python",
   "name": "python3"
  },
  "language_info": {
   "codemirror_mode": {
    "name": "ipython",
    "version": 3
   },
   "file_extension": ".py",
   "mimetype": "text/x-python",
   "name": "python",
   "nbconvert_exporter": "python",
   "pygments_lexer": "ipython3",
   "version": "3.9.15"
  }
 },
 "nbformat": 4,
 "nbformat_minor": 5
}
