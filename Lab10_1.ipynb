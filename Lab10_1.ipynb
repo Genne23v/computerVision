{
 "cells": [
  {
   "cell_type": "code",
   "execution_count": 50,
   "id": "1b810e28",
   "metadata": {},
   "outputs": [
    {
     "data": {
      "text/plain": [
       "True"
      ]
     },
     "execution_count": 50,
     "metadata": {},
     "output_type": "execute_result"
    }
   ],
   "source": [
    "import cv2 as cv\n",
    "import numpy as np\n",
    "from matplotlib import pyplot as plt\n",
    "\n",
    "img = cv.imread('5_of_diamonds.png')\n",
    "gray = cv.cvtColor(img, cv.COLOR_BGR2GRAY)\n",
    "\n",
    "# Divide images into two regions, blacks and whites\n",
    "ret, thresh = cv.threshold(gray, 0, 255, cv.THRESH_BINARY_INV | cv.THRESH_OTSU)\n",
    "\n",
    "# Remove noise (big white regions swallow little black regions)\n",
    "kernel = np.ones((3,3), np.uint8)\n",
    "opening = cv.morphologyEx(thresh, cv.MORPH_OPEN, kernel, iterations = 2)\n",
    "\n",
    "# Find the sure background region\n",
    "sure_bg = cv.dilate(opening, kernel, iterations = 3)\n",
    "\n",
    "# Find the sure foreground region\n",
    "dist_transform = cv.distanceTransform(opening, cv.DIST_L2, 5)\n",
    "ret, sure_fg = cv.threshold(dist_transform, 0.7*dist_transform.max(), 255, 0)\n",
    "sure_fg = sure_fg.astype(np.uint8)\n",
    "\n",
    "# Find the unknown region\n",
    "unknown = cv.subtract(sure_bg, sure_fg)\n",
    "\n",
    "# Label the foreground objects\n",
    "ret, markers = cv.connectedComponents(sure_fg)\n",
    "\n",
    "# Add one to all labels so that sure background is not 0, but 1\n",
    "markers += 1\n",
    "\n",
    "# Label the unknown region as 0\n",
    "markers[unknown == 255] = 0\n",
    "\n",
    "# Label -1 to edges and blue line on contours\n",
    "gray_converted_to_colour = cv.cvtColor(gray, cv.COLOR_GRAY2RGB)\n",
    "markers = cv.watershed(gray_converted_to_colour, markers)\n",
    "gray_converted_to_colour[markers == -1] = [255, 0, 0]\n",
    "cv.imwrite('final.png', gray_converted_to_colour)"
   ]
  },
  {
   "cell_type": "code",
   "execution_count": null,
   "id": "ff0293b1",
   "metadata": {},
   "outputs": [],
   "source": []
  }
 ],
 "metadata": {
  "kernelspec": {
   "display_name": "Python 3 (ipykernel)",
   "language": "python",
   "name": "python3"
  },
  "language_info": {
   "codemirror_mode": {
    "name": "ipython",
    "version": 3
   },
   "file_extension": ".py",
   "mimetype": "text/x-python",
   "name": "python",
   "nbconvert_exporter": "python",
   "pygments_lexer": "ipython3",
   "version": "3.9.15"
  }
 },
 "nbformat": 4,
 "nbformat_minor": 5
}
