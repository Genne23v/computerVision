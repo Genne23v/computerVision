{
 "cells": [
  {
   "cell_type": "code",
   "execution_count": null,
   "id": "fc4c4e0e",
   "metadata": {},
   "outputs": [
    {
     "name": "stdout",
     "output_type": "stream",
     "text": [
      "Width: 1920, height: 1080\n",
      "x button 1 pressed\n",
      "x button 2 pressed\n"
     ]
    }
   ],
   "source": [
    "import cv2 as cv\n",
    "from PIL import ImageGrab\n",
    "import numpy as np\n",
    "\n",
    "PAD_COLOUR = [225,245,254]\n",
    "\n",
    "def crop_image_and_add_pad(img):\n",
    "    img_width = img.shape[0]\n",
    "    img_height = img.shape[1]\n",
    "    cropped_img = img[30:img_width-30, 30:img_height-30]\n",
    "    new_img = cv.copyMakeBorder(cropped_img, 50, 50, 50, 50, cv.BORDER_CONSTANT, value=PAD_COLOUR)\n",
    "    return new_img\n",
    "\n",
    "cap = cv.VideoCapture(0)\n",
    "\n",
    "if (cap.isOpened() == False):\n",
    "    print(\"Error opening video stream or file\")\n",
    "    \n",
    "frame_width = int(cap.get(3))\n",
    "frame_height = int(cap.get(4))\n",
    "print(f'Width: {frame_width}, height: {frame_height}')\n",
    "\n",
    "imgNum = 0\n",
    "while(cap.isOpened()):\n",
    "    ret, frame = cap.read()\n",
    "    if ret == False:\n",
    "        break\n",
    "        \n",
    "    cv.imshow('Frame', frame)\n",
    "    key = cv.waitKey(1000)\n",
    "    \n",
    "    if key & 0xFF == ord('x'):\n",
    "        imgNum += 1\n",
    "        print(f\"x button {imgNum} pressed\")\n",
    "        imgName = f\"Screenshot_{imgNum}.png\"\n",
    "        new_img = crop_image_and_add_pad(frame)\n",
    "        cv.imwrite(imgName, new_img)\n",
    "        img = cv.imread(imgName)\n",
    "        \n",
    "        cv.imshow(imgName, img)\n",
    "        cv.waitKey(1000)\n",
    "        cv.destroyWindow(imgName)\n",
    "        \n",
    "    if key & 0xFF == ord('q'):\n",
    "        break\n",
    "        \n",
    "cap.release()\n",
    "\n",
    "cv.destroyAllWindows()\n"
   ]
  },
  {
   "cell_type": "code",
   "execution_count": null,
   "id": "159d8312",
   "metadata": {},
   "outputs": [],
   "source": []
  },
  {
   "cell_type": "code",
   "execution_count": null,
   "id": "3d9bad5d",
   "metadata": {},
   "outputs": [],
   "source": []
  }
 ],
 "metadata": {
  "kernelspec": {
   "display_name": "Python 3 (ipykernel)",
   "language": "python",
   "name": "python3"
  },
  "language_info": {
   "codemirror_mode": {
    "name": "ipython",
    "version": 3
   },
   "file_extension": ".py",
   "mimetype": "text/x-python",
   "name": "python",
   "nbconvert_exporter": "python",
   "pygments_lexer": "ipython3",
   "version": "3.9.15"
  }
 },
 "nbformat": 4,
 "nbformat_minor": 5
}
